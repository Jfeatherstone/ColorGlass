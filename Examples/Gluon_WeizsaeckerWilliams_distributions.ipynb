{
 "cells": [
  {
   "cell_type": "markdown",
   "metadata": {
    "tags": []
   },
   "source": [
    "## Example 1: Evaluation of  Weizsacker-Williams gluon distribution functions\n",
    "\n",
    "In this example, we utilize our toolbox to calculate the Wilson Line $U$ for many different target configurations, which we then use to calculate the distribution of linearly polarized/unpolarized gluons as in [1] (numerically) or [2] (analytically). We compare our results to those from [1] at the end, and see good agreement.\n",
    "\n",
    "### References\n",
    "\n",
    "[1] Dumitru, A., Lappi, T., & Skokov, V. (2015). The distribution of linearly polarized gluons and elliptic azimuthal anisotropy in DIS dijet production at high energy. https://doi.org/10.1103/PhysRevLett.115.252301\n",
    "\n",
    "[2] Metz, A., & Zhou, J. (2011). Distribution of linearly polarized gluons inside a large nucleus. https://doi.org/10.1103/PhysRevD.84.051503"
   ]
  },
  {
   "cell_type": "code",
   "execution_count": 1,
   "metadata": {},
   "outputs": [],
   "source": [
    "# If you haven't formally installed the toolbox, you will need\n",
    "# this line to get proper access to the functions\n",
    "import sys\n",
    "sys.path.append('../')\n",
    "\n",
    "# Import our functions\n",
    "import cgc\n",
    "\n",
    "# To make the evaluation responsive and more user friendly\n",
    "import progressbar\n",
    "\n",
    "# Import numpy and matplotlib for plotting/other utility\n",
    "import matplotlib.pyplot as plt\n",
    "import matplotlib\n",
    "import numpy as np\n",
    "from scipy.fft import fft2\n",
    "\n",
    "# Make our plots nice and large\n",
    "plt.rcParams[\"figure.dpi\"] = 120\n",
    "plt.rcParams[\"font.size\"] = 12"
   ]
  },
  {
   "cell_type": "markdown",
   "metadata": {},
   "source": [
    "We first generate $M$ different targets (nuclei) and calculate the Wilson Line $V$ for each"
   ]
  },
  {
   "cell_type": "code",
   "execution_count": 2,
   "metadata": {},
   "outputs": [
    {
     "name": "stderr",
     "output_type": "stream",
     "text": [
      "100% (6 of 6) |##########################| Elapsed Time: 0:03:58 ETA:  00:00:00"
     ]
    }
   ],
   "source": [
    "M = 6 # Number of configurations  \n",
    "N = 256  # Lattice size\n",
    "L = 32 # S_\\perp = L^2 is the area of the target\n",
    "delta = L/N \n",
    "mu = 1 # defines the units in the calculation\n",
    "\n",
    "# Collecting and storing configurations; here the fundamental Wilson line in x space are stored\n",
    "V_list = np.zeros([M, N, N, 3, 3], dtype=np.complex128) # The wilson line is a 3x3 matrix at each lattice point\n",
    "\n",
    "# This step may take a while, so we'll use a progress bar to see how far along we are\n",
    "# We'll use this several times later on as well\n",
    "progressBar = progressbar.ProgressBar(max_value=M)\n",
    "\n",
    "# Generate M targets and calculate their Wilson lines\n",
    "for i in range(M):\n",
    "    progressBar.update(i)\n",
    "    nucleus = cgc.Nucleus(3, N, delta, mu, M=0.1, Ny=100)\n",
    "    V_list[i] = nucleus.wilsonLine()\n",
    "progressBar.update(M)"
   ]
  },
  {
   "cell_type": "markdown",
   "metadata": {},
   "source": [
    "Next, we calculate the gauge field $A$, the linearly polarized distribution $G$ and the unpolarized distribution $h$.\n",
    "\n",
    "Analytically, we have:\n",
    "\n",
    "$$ A^i(\\vec x_T)  = \\frac{1}{i g} U^\\dagger(\\vec x_T) \\partial_i U(\\vec x_T) \\hspace{2cm} \\text{[Dumitru et al. 2015, Eq. 9]}$$\n",
    "\n",
    "These take the numerical form:\n",
    "\n",
    "$$ A^0_{i,j} = \\frac{i}{2} \\left( V^\\dagger_{i,j} \\frac{(V_{i+1,j} - V_{i-1,j})}{2} -  \\frac{(V^\\dagger_{i+1,j} - V^\\dagger_{i-1,j})}{2} V_{i,j} \\right)$$\n",
    "\n",
    "$$ A^1_{i,j} = \\frac{i}{2} \\left( V^\\dagger_{i,j} \\frac{(V_{i,j+1} - V_{i,j-1})}{2} -  \\frac{(V^\\dagger_{i,j+1} - V^\\dagger_{i,j-1})}{2} V_{i,j} \\right)$$\n",
    "\n",
    "Now our distribution functions are:\n",
    "\n",
    "$$ G_{ij} = \\text{tr}\\left\\{ A^0_{ij}(\\vec k) A^0_{ij}(\\vec k)^\\dagger \\right\\} + \\text{tr}\\left\\{ A^1_{ij}(\\vec k) A^1_{ij}(\\vec k)^\\dagger \\right\\} $$\n",
    "\n",
    "$$ h_{ij} = -G_{ij} + \\frac{2}{k^2} \\sum_{a = 0,1} \\sum_{b = 0,1} k_a k_b \\text{tr}\\{ A^a_{ij}(\\vec k) A^b_{ij}(\\vec k)^\\dagger \\}$$\n",
    "\n",
    "or\n",
    "\n",
    "$$ h_{ij} = -\\sum_{a = 0,1} \\sum_{b = 0,1} \\delta^{ab} \\text{tr} \\left\\{ A^a_{ij}(\\vec k) A^b_{ij}(\\vec k)^\\dagger \\right\\} + \\frac{2}{k^2} \\sum_{a = 0,1} \\sum_{b = 0,1} k_a k_b \\text{tr} \\left\\{ A^a_{ij}(\\vec k) A^b_{ij}(\\vec k)^\\dagger \\right\\}$$\n",
    "\n",
    "$$ h_{ij} = \\sum_{a = 0,1} \\sum_{b = 0,1} \\left( \\frac{2 k_a k_b}{k^2} - \\delta^{ab} \\right) \\text{tr}\\left \\{ A^a_{ij}(\\vec k) A^b_{ij}(\\vec k)^\\dagger \\right \\} $$\n",
    "\n",
    "where $A^a_{ij}(\\vec k)$ is the gauge field in fourier space at the lattice point $(i,j)$."
   ]
  },
  {
   "cell_type": "code",
   "execution_count": 3,
   "metadata": {},
   "outputs": [
    {
     "name": "stderr",
     "output_type": "stream",
     "text": [
      " 99% (1535 of 1536) |################### | Elapsed Time: 0:24:03 ETA:   0:00:00"
     ]
    }
   ],
   "source": [
    "# Note that these values are specific to each configuration (of which we have M)\n",
    "# We will keep each configuration separate, and at the end will bootstrap to get\n",
    "# a statistically significant result\n",
    "G = np.zeros([N, N, M], dtype=np.complex128)\n",
    "h = np.zeros([N, N, M], dtype=np.complex128)\n",
    "\n",
    "progressBar = progressbar.ProgressBar(max_value=len(V_list)*N)\n",
    "\n",
    "for i in range(len(V_list)):\n",
    "    progressBar.update(i)\n",
    "\n",
    "    # The gauge field; this is specific to each configuration\n",
    "    A = np.zeros([N, N, 2, 3, 3], dtype=np.complex128)\n",
    "\n",
    "    # It helps to calculate the conjugate transpose of the wilson line\n",
    "    # before we begin (see the above equation)\n",
    "    V = V_list[i]\n",
    "    Vdag = np.conjugate(np.swapaxes(V, -2, -1))\n",
    "\n",
    "    # Calculate the gauge field at each point on the lattice\n",
    "    for y in range(N):\n",
    "        for x in range(N):\n",
    "            # The '@' symbol stands for matrix multiplication\n",
    "            # The '%N' in the indexing enforces periodic boundary conditions\n",
    "            A[y,x,0] = 1.j * (Vdag[y,x] @ (V[(y+1)%N,x] - V[(y-1)%N,x]) - (Vdag[(y+1)%N,x] - Vdag[(y-1)%N,x]) @ V[y,x] ) / 4\n",
    "            A[y,x,1] = 1.j * (Vdag[y,x] @ (V[y,(x+1)%N] - V[y,(x-1)%N]) - (Vdag[y,(x+1)%N] - Vdag[y,(x-1)%N]) @ V[y,x] ) / 4  \n",
    "\n",
    "    # Take the fourier transform of the gauge field\n",
    "    AM = fft2(A, axes=(0, 1), norm=None, workers=-1)  \n",
    "\n",
    "    for y in range(N):\n",
    "        progressBar.update(i*N + y)\n",
    "        for x in range(N):\n",
    "            # Calculate the momentum at each point in fourier space\n",
    "            kx = 2*np.sin(np.pi/N * y)/delta * np.sign(np.sin(2*np.pi/N * y))\n",
    "            ky = 2*np.sin(np.pi/N * x)/delta * np.sign(np.sin(2*np.pi/N * x))\n",
    "            k2 = kx**2 + ky**2 + 1e-16 # This second part is to avoid divide by zero errors\n",
    "\n",
    "            # Calculate the conjugate-transpose of the gauge field in fourier space\n",
    "            AMDag = np.conjugate(np.swapaxes(AM, -2, -1))\n",
    "            #AM0_conj = np.transpose(np.conjugate(AM[k,l,0]))\n",
    "            #AM1_conj = np.transpose(np.conjugate(AM[k,l,1]))\n",
    "\n",
    "            # Precompute these traces since they are used more than once\n",
    "            diagTrace1 = np.trace(AM[y,x,0] @ AMDag[y,x,0])\n",
    "            diagTrace2 = np.trace(AM[y,x,1] @ AMDag[y,x,1])\n",
    "            G[y,x,i] = diagTrace1 + diagTrace2\n",
    "            h[y,x,i] = -G[y,x,i]\n",
    "            h[y,x,i] += 2*kx*kx/k2 * diagTrace1\n",
    "            h[y,x,i] += 2*ky*ky/k2 * diagTrace2\n",
    "            h[y,x,i] += 2*kx*ky/k2 * np.trace(AM[y,x,0] @ AMDag[y,x,1])\n",
    "            h[y,x,i] += 2*kx*ky/k2 * np.trace(AM[y,x,1] @ AMDag[y,x,0])\n",
    "\n",
    "    G[:,:,i] = 2 * G[:,:,i] / (N*N*(2*np.pi)**4) # the final expression is xG alpha_s/S_\\perp\n",
    "    h[:,:,i] = 2 * h[:,:,i] / (N*N*(2*np.pi)**4) # the final expression is xh alpha_s/S_\\perp"
   ]
  },
  {
   "cell_type": "markdown",
   "metadata": {},
   "source": [
    "Now that we have expressions for both $G$ and $h$, we want to flatten our lattice representation and bin by the mangitude of the momentum at each point."
   ]
  },
  {
   "cell_type": "code",
   "execution_count": 4,
   "metadata": {},
   "outputs": [],
   "source": [
    "# We will have a total of N/2 bins for each configuration\n",
    "numBins = int(N/2)\n",
    "# This is the bin size we will be using for N/2 bins\n",
    "# This means our maximum momentum is 2/delta\n",
    "binSize = 2/delta / numBins\n",
    "\n",
    "# (Keep the configurations separate still)\n",
    "G_b = np.zeros([numBins,M], dtype='float')\n",
    "h_b = np.zeros([numBins,M], dtype='float')\n",
    "\n",
    "# We don't really need a progress bar here since this one is very fast\n",
    "for m in range(M):\n",
    "    \n",
    "    # We want to calculate the magnitude of the momentum at each point on the lattice\n",
    "    # Since we have a symmetric lattice, the value of the momenta components will also\n",
    "    # be symmetric, and we can just calculate one component, square it, and do an\n",
    "    # outer addition (outer product but adding instead of multiplying)\n",
    "    kComSqr = (2/delta * np.sin(np.pi/N * np.arange(N)))**2\n",
    "    kMag = np.sqrt(np.add.outer(kComSqr, kComSqr))\n",
    "    \n",
    "    # Now we grab all of the lattice points that exist within each bin, which\n",
    "    # essentially means we are creating thin rings centered on the lattice\n",
    "    for i in range(numBins):\n",
    "        # The complex boolean statement grabs the indices of the points\n",
    "        # whose momentum is within this bin\n",
    "        # This means we get a (flattened) array out of values at points that satisfy the condition\n",
    "        # And we divide out the number of points in each bin\n",
    "        numPointsInBin = len(G[:,:,m][(kMag < binSize * (i+1)) & (kMag >= binSize * i)])\n",
    "\n",
    "        h_b[i,m] = np.sum(np.real(h[:,:,m][(kMag < binSize * (i+1)) & (kMag >= binSize * i)])) / numPointsInBin\n",
    "        G_b[i,m] = np.sum(np.real(G[:,:,m][(kMag < binSize * (i+1)) & (kMag >= binSize * i)])) / numPointsInBin"
   ]
  },
  {
   "cell_type": "markdown",
   "metadata": {},
   "source": [
    "Finally, we bootstrap our separate configurations so as to get a statistically averaged result with error estimation. This means we randomly select $M/2$ configurations with replacement, and calculate the mean/standard deviation from this resample."
   ]
  },
  {
   "cell_type": "code",
   "execution_count": 5,
   "metadata": {},
   "outputs": [],
   "source": [
    "#bootstrap for error estimation\n",
    "Nbstrp = int(M/2)\n",
    "\n",
    "# Randomly select Nbstrp configurations (with replacement)\n",
    "resampleSelection = np.random.randint(M, size=(Nbstrp))\n",
    "\n",
    "G_resample = G_b[:,resampleSelection]\n",
    "h_resample = h_b[:,resampleSelection]\n",
    "\n",
    "# Now take our statistics on this resample\n",
    "G_final = np.mean(G_resample, axis=1)\n",
    "h_final = np.mean(h_resample, axis=1)\n",
    "\n",
    "G_error = np.std(G_resample, axis=1)\n",
    "h_error = np.std(h_resample, axis=1)\n",
    "\n",
    "# And the final values of momentum that we are plotting against\n",
    "# Adding half the bin size makes it the center of each bin\n",
    "kArr = (np.arange(N/2) + binSize/2) * binSize"
   ]
  },
  {
   "cell_type": "code",
   "execution_count": 6,
   "metadata": {},
   "outputs": [
    {
     "data": {
      "image/png": "[encoded data removed]",
      "text/plain": [
       "<Figure size 1200x480 with 2 Axes>"
      ]
     },
     "metadata": {
      "needs_background": "light"
     },
     "output_type": "display_data"
    }
   ],
   "source": [
    "# Rescale our momentum by the saturation momentum Qs\n",
    "muOverQs = 1.574 # as found in ScatteringMatrix_and_Qs\n",
    "\n",
    "fig, ax = plt.subplots(1, 2, figsize=(10, 4))\n",
    "\n",
    "# On the left: distributions of linearly polarized and unpolarized gluons\n",
    "ax[0].errorbar(kArr/muOverQs, G_final, yerr=G_error, fmt='.', label=r'$\\alpha_s xG/S_\\perp$')\n",
    "ax[0].errorbar(kArr/muOverQs, h_final, yerr=h_error, fmt='.', label=r'$\\alpha_s xh/S_\\perp$')\n",
    "\n",
    "# Rescale the y axis to make the plot look nicer\n",
    "ax[0].set_yscale('log')\n",
    "ax[0].set_xlim([0, 0.8*2/delta/muOverQs])\n",
    "ax[0].set_ylim([1e-5,1e-1])\n",
    "\n",
    "ax[0].set_xlabel(r'$k/Q_s$')\n",
    "ax[0].legend()\n",
    "\n",
    "# On the right: ratio of the linearly polarized to unpolarized gluons\n",
    "ax[1].plot(kArr/muOverQs, h_final/G_final, '.', label=r'$xh/xG')\n",
    "ax[1].set_xlim([0, 0.8*2/delta/muOverQs])\n",
    "ax[1].set_ylim([0, 1])\n",
    "ax[1].set_xlabel(r'$k/Q_s$')\n",
    "ax[1].set_ylabel(r'$xh/xG$')\n",
    "\n",
    "fig.tight_layout()\n",
    "plt.show()"
   ]
  },
  {
   "cell_type": "markdown",
   "metadata": {},
   "source": [
    "Compare to Fig. 1 from [1]:\n",
    "\n",
    "![Dumitru 2015 Fig. 1](Dumitru_2015_Fig1.png)\n"
   ]
  },
  {
   "cell_type": "code",
   "execution_count": null,
   "metadata": {},
   "outputs": [],
   "source": []
  }
 ],
 "metadata": {
  "kernelspec": {
   "display_name": "Python 3 (ipykernel)",
   "language": "python",
   "name": "python3"
  },
  "language_info": {
   "codemirror_mode": {
    "name": "ipython",
    "version": 3
   },
   "file_extension": ".py",
   "mimetype": "text/x-python",
   "name": "python",
   "nbconvert_exporter": "python",
   "pygments_lexer": "ipython3",
   "version": "3.9.7"
  }
 },
 "nbformat": 4,
 "nbformat_minor": 4
}
