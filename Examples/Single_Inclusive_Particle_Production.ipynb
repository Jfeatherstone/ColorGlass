{
 "cells": [
  {
   "cell_type": "markdown",
   "metadata": {},
   "source": [
    "## Example 3: Single Inclusive Multiplicity\n",
    "\n",
    "In this example, we calculate the single inclusive particle production as a function of the incident and target saturation scale.\n",
    "\n",
    "### References\n",
    "\n",
    "Schlichting, S., & Skokov, V. (2020). Saturation corrections to dilute-dense particle production and azimuthal correlations in the Color Glass Condensate. Physics Letters B, 806, 135511. https://doi.org/10.1016/j.physletb.2020.135511 (https://arxiv.org/pdf/1910.12496.pdf)\n"
   ]
  },
  {
   "cell_type": "code",
   "execution_count": 3,
   "metadata": {},
   "outputs": [],
   "source": [
    "# If you haven't formally installed the toolbox, you will need\n",
    "# this line to get proper access to the functions\n",
    "import sys\n",
    "sys.path.append('../')\n",
    "\n",
    "# Import our functions\n",
    "import cgc\n",
    "\n",
    "# To make the evaluation responsive and more user friendly\n",
    "# Can be installed with: pip install progressbar2\n",
    "import progressbar\n",
    "\n",
    "# Import numpy and matplotlib for plotting/other utility\n",
    "import matplotlib.pyplot as plt\n",
    "import matplotlib\n",
    "import numpy as np\n",
    "from scipy.fft import fft2, ifft2\n",
    "from scipy.interpolate import splrep, sproot\n",
    "\n",
    "# Make our plots nice and large\n",
    "plt.rcParams[\"figure.dpi\"] = 120\n",
    "plt.rcParams[\"font.size\"] = 12"
   ]
  },
  {
   "cell_type": "markdown",
   "metadata": {},
   "source": [
    "## Varying the target saturation scale"
   ]
  },
  {
   "cell_type": "code",
   "execution_count": 32,
   "metadata": {},
   "outputs": [
    {
     "name": "stderr",
     "output_type": "stream",
     "text": [
      "100% (50 of 50) |########################| Elapsed Time: 0:08:49 ETA:  00:00:00"
     ]
    }
   ],
   "source": [
    "M = 5 # Number of configurations per saturation scale\n",
    "N = 128  # Lattice size\n",
    "L = 32\n",
    "delta = L/N\n",
    "radius = 12\n",
    "\n",
    "# We vary mu to change the saturation scale\n",
    "muNArr = np.linspace(1, 2, 10)\n",
    "muP = 1 # Proton Qs should stay constant\n",
    "\n",
    "# Collecting and storing configurations of the fundamental Wilson line in real space\n",
    "V_list = np.zeros([len(muNArr), M, N, N, 3, 3], dtype=np.complex128) # The wilson line is a 3x3 matrix at each lattice point\n",
    "particleProduction = np.zeros(len(muNArr))\n",
    "\n",
    "# This step may take a while, so we'll use a progress bar to see how far along we are\n",
    "# We'll use this several times later on as well\n",
    "progressBar = progressbar.ProgressBar(max_value=M*len(muNArr))\n",
    "\n",
    "# Generate M targets and calculate their Wilson lines\n",
    "for i in range(len(muNArr)):\n",
    "    for m in range(M):\n",
    "        progressBar.update(i*M + m)\n",
    "        proton = cgc.Proton(3, N, delta, muP, radius, M=0.1)\n",
    "        nucleus = cgc.Nucleus(3, N, delta, muNArr[i], M=0.1, Ny=100)\n",
    "        \n",
    "        # Store the wilson line to calculate Qs\n",
    "        V_list[i,m] = nucleus.wilsonLine()\n",
    "        \n",
    "        # Calculate the single inclusive particle production\n",
    "        col = cgc.Collision(nucleus, proton)\n",
    "        # Take \\int dN/dk * dk = \\sum_k dN/dk (k) * k\n",
    "        particleProduction[i] += np.sum(col.particlesProduced() * col.momentaBins()) / M\n",
    "        \n",
    "progressBar.update(M*len(muNArr))"
   ]
  },
  {
   "cell_type": "markdown",
   "metadata": {},
   "source": [
    "Now we calculate the saturation momentum; see the example about this for more detail."
   ]
  },
  {
   "cell_type": "code",
   "execution_count": 33,
   "metadata": {},
   "outputs": [],
   "source": [
    "QsArr = np.zeros(len(muNArr))\n",
    "\n",
    "V_fft = fft2(V_list, axes=(2,3),\n",
    "             workers=-1, # For parallelization\n",
    "            ) \n",
    "\n",
    "rComSqr = (np.arange(N)*delta)**2\n",
    "rMag = np.sqrt(np.add.outer(rComSqr, rComSqr))\n",
    "\n",
    "# The center of each bin\n",
    "r = delta*(np.arange(int(N/2))+0.5)\n",
    "\n",
    "for q in range(len(QsArr)):\n",
    "\n",
    "    # Evaluating the S matrix in momentum and configuration spaces  \n",
    "    S = np.zeros([N, N], dtype=np.complex128)\n",
    "    S_fft = np.zeros([N, N], dtype=np.complex128)\n",
    "\n",
    "    for i in range(N):\n",
    "        for j in range(N):\n",
    "            S_fft[i,j] += np.sum([np.trace(V_fft[q,m,i,j] @ np.conjugate(np.transpose(V_fft[q,m,i,j]))) for m in range(M)])\n",
    "\n",
    "    # Forward norm means no extra factors on the ifft (since we put them in explicitly)\n",
    "    S = ifft2(S_fft, norm='forward') / (3 * M * N**4)\n",
    "    S_fft *= delta**2 / (3 * M * N**2)\n",
    "\n",
    "    # binning and defining the ratio g^2 mu/Qs via S( g^2 \\mu r_s )   = e^{-1/2} with Q_s r_s = sqrt(2)\n",
    "    # or Q_s/(g^2 \\mu)   (r_s g^2 \\mu) = sqrt(2) thus  g^2 \\mu/Q_s = 1/sqrt(2)  (r_s g^2 \\mu) \n",
    "    S_b = np.zeros(int(N/2), dtype='float')\n",
    "    n_b = np.zeros(int(N/2), dtype='float')\n",
    "\n",
    "    for i in range(int(N/2)):\n",
    "        # Boolean expression finds the points that are between delta*i and delta*(i+1)\n",
    "        n_b[i] = len(S[(rMag < delta * (i+1)) & (rMag >= delta * i)])\n",
    "        S_b[i] = np.sum(np.real(S[(rMag < delta * (i+1)) & (rMag >= delta * i)])) / n_b[i]\n",
    "\n",
    "    # Now do the interpolation\n",
    "    tck = splrep(r, S_b - np.exp(-0.5), s=0)\n",
    "    try:\n",
    "        muOverQs = muNArr[q] / sproot(tck)[0]/np.sqrt(2)\n",
    "\n",
    "        # Since g = 1\n",
    "        QsArr[q] = muNArr[q] / muOverQs\n",
    "    except:\n",
    "        QsArr[q] = 0"
   ]
  },
  {
   "cell_type": "code",
   "execution_count": 36,
   "metadata": {},
   "outputs": [
    {
     "data": {
      "image/png": "[encoded data removed]",
      "text/plain": [
       "<Figure size 720x480 with 1 Axes>"
      ]
     },
     "metadata": {
      "needs_background": "light"
     },
     "output_type": "display_data"
    }
   ],
   "source": [
    "plt.plot(QsArr, particleProduction, 'o')\n",
    "plt.xlabel('$Q^A_s$')\n",
    "plt.ylabel(r'$\\left\\langle \\int \\frac{dN}{dk} dk \\right\\rangle$')\n",
    "plt.savefig('single_inclusive_1.png')\n",
    "plt.show()"
   ]
  },
  {
   "cell_type": "code",
   "execution_count": null,
   "metadata": {},
   "outputs": [],
   "source": []
  }
 ],
 "metadata": {
  "kernelspec": {
   "display_name": "Python 3 (ipykernel)",
   "language": "python",
   "name": "python3"
  },
  "language_info": {
   "codemirror_mode": {
    "name": "ipython",
    "version": 3
   },
   "file_extension": ".py",
   "mimetype": "text/x-python",
   "name": "python",
   "nbconvert_exporter": "python",
   "pygments_lexer": "ipython3",
   "version": "3.9.7"
  }
 },
 "nbformat": 4,
 "nbformat_minor": 4
}
