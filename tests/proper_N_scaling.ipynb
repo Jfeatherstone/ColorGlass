{
 "cells": [
  {
   "cell_type": "code",
   "execution_count": null,
   "id": "16d5b1a4-d3f8-4601-b11a-9bdf1d286b8b",
   "metadata": {},
   "outputs": [],
   "source": [
    "baseN = 128\n",
    "baseD = .1\n",
    "\n",
    "NArr = np.linspace(64, 1024, 16, dtype=int)\n",
    "DArr = [baseD * baseN/N for N in NArr]\n",
    "\n",
    "momentaArr = []\n",
    "particlesArr = []\n",
    "integralArr = []\n",
    "integralSTD = []\n",
    "\n",
    "for i in range(len(NArr)):\n",
    "    integralVals = []\n",
    "    for j in range(4):\n",
    "        muA = 2\n",
    "        muP = 0.25\n",
    "        radius = 4\n",
    "        nucleus = cgc.Nucleus(3, NArr[i], DArr[i], muA, Ny=10)\n",
    "        proton = cgc.Proton(3, NArr[i], DArr[i], muP, radius)\n",
    "\n",
    "        col = cgc.Collision(proton, nucleus)\n",
    "        momentaArr.append(col.momentaBins())\n",
    "        particlesArr.append(col.particlesProduced())\n",
    "\n",
    "        integralVals.append(np.sum(col.momentaBins() * col.particlesProduced()))\n",
    "        \n",
    "    integralArr.append(np.mean(integralVals))\n",
    "    integralSTD.append(np.std(integralVals))\n",
    "\n",
    "    print(i)"
   ]
  },
  {
   "cell_type": "code",
   "execution_count": null,
   "id": "02a3ba6c-68a2-4e25-948f-e8336f0de5ce",
   "metadata": {},
   "outputs": [],
   "source": [
    "plt.plot(momentaArr[0], particlesArr[0])\n",
    "plt.yscale('log')\n",
    "plt.ylabel('Particles Produced')\n",
    "plt.xlabel(r'$|\\vec k|$')\n",
    "plt.savefig('test_su_3.png')\n",
    "plt.show()"
   ]
  },
  {
   "cell_type": "code",
   "execution_count": null,
   "id": "322b5727-1c0e-4c1d-8994-1ef6074a9a02",
   "metadata": {},
   "outputs": [],
   "source": [
    "plt.errorbar(NArr, integralArr, yerr=integralSTD)\n",
    "#plt.yscale('log')\n",
    "plt.xlabel(\"N\")\n",
    "plt.ylabel(\"$\\int N dk $\")\n",
    "plt.savefig('Ntest.png')\n",
    "plt.show()"
   ]
  },
  {
   "cell_type": "code",
   "execution_count": null,
   "id": "8cff1b0e-1665-474e-9533-3ac418309172",
   "metadata": {},
   "outputs": [],
   "source": [
    "plt.plot(NArr, maxP/NArr**4)\n",
    "plt.yscale('log')\n",
    "plt.xlabel(\"N\")\n",
    "plt.ylabel(\"Maximum number of particles / $N^4$\")\n",
    "plt.savefig('Ntest.png')\n",
    "plt.show()"
   ]
  }
 ],
 "metadata": {
  "kernelspec": {
   "display_name": "Python 3 (ipykernel)",
   "language": "python",
   "name": "python3"
  },
  "language_info": {
   "codemirror_mode": {
    "name": "ipython",
    "version": 3
   },
   "file_extension": ".py",
   "mimetype": "text/x-python",
   "name": "python",
   "nbconvert_exporter": "python",
   "pygments_lexer": "ipython3",
   "version": "3.9.7"
  }
 },
 "nbformat": 4,
 "nbformat_minor": 5
}
