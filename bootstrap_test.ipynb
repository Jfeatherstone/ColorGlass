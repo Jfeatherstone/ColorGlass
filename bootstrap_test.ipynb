{
 "cells": [
  {
   "cell_type": "code",
   "execution_count": 1,
   "id": "f83f3273-9dc7-46f7-b9cf-82305ba78778",
   "metadata": {},
   "outputs": [],
   "source": [
    "import cgc\n",
    "\n",
    "import numpy as np\n",
    "import matplotlib.pyplot as plt"
   ]
  },
  {
   "cell_type": "code",
   "execution_count": 4,
   "id": "55056350-e118-46e0-9723-d418ee5a54e9",
   "metadata": {},
   "outputs": [],
   "source": [
    "# Constants that define our lattice and color charge distribution\n",
    "# See documentation for more information\n",
    "N = 128\n",
    "delta = .1\n",
    "mu = 2\n",
    "radius = 1\n",
    "su = 3\n",
    "\n",
    "numSamples = 20"
   ]
  },
  {
   "cell_type": "code",
   "execution_count": 5,
   "id": "ab6b430b-97c2-499f-8ecf-f69e88dcdcf3",
   "metadata": {},
   "outputs": [],
   "source": [
    "particlesArr = []\n",
    "\n",
    "for i in range(numSamples):\n",
    "    # Create a nucleus and proton object\n",
    "    nucleus = cgc.Nucleus(su, N, delta, mu)\n",
    "    proton = cgc.Proton(su, N, delta, mu, radius)\n",
    "\n",
    "    # Create a collision using these two objects\n",
    "    col = cgc.Collision(nucleus, proton)\n",
    "\n",
    "    particlesArr.append(col.particlesProduced())\n",
    "    momentaArr = col.momentaBins() # Shouldn't change"
   ]
  },
  {
   "cell_type": "code",
   "execution_count": 9,
   "id": "f0b7018b-2243-48d0-a131-742f5ec8313c",
   "metadata": {},
   "outputs": [],
   "source": [
    "def statisticalBootstrap(arr, func, M):\n",
    "    r\"\"\"\n",
    "    Statistical bootstrap method for calculating the variance of an ensemble by resampling\n",
    "    said ensemble.\n",
    "\n",
    "    Parameters\n",
    "    ----------\n",
    "\n",
    "    arr : numpy.ndarray\n",
    "        An array of values\n",
    "\n",
    "    func : function\n",
    "        A function to evaluate by resampling the ensemble. Common choices are numpy.std or numpy.var.\n",
    "\n",
    "    M : positive integer\n",
    "        The number of times to resample\n",
    "    \"\"\"\n",
    "    # Select N random samples from the arr and take the value of the function\n",
    "    # for each sampling\n",
    "    O = np.array([func(np.random.choice(arr, size=len(arr))) for i in range(M)])\n",
    "\n",
    "    # Return the average of O\n",
    "    return np.mean(O)"
   ]
  },
  {
   "cell_type": "code",
   "execution_count": 16,
   "id": "7b615796-cf7d-49fe-b861-1c1d7969b6a0",
   "metadata": {},
   "outputs": [],
   "source": [
    "# Now calculate error bars using statistical bootstrap\n",
    "particlesArr = np.array(particlesArr)\n",
    "errorArr = np.zeros_like(particlesArr[0])\n",
    "meanArr = np.zeros_like(particlesArr[0])\n",
    "\n",
    "for i in range(len(errorArr)):\n",
    "    errorArr[i] = statisticalBootstrap(particlesArr[:,i], np.std, 10)\n",
    "    meanArr[i] = np.mean(particlesArr[:,i])"
   ]
  },
  {
   "cell_type": "code",
   "execution_count": 17,
   "id": "2f25fcec-7674-4bf6-b055-4c864c780612",
   "metadata": {},
   "outputs": [
    {
     "data": {
      "image/png": "[encoded data removed]",
      "text/plain": [
       "<Figure size 432x288 with 1 Axes>"
      ]
     },
     "metadata": {
      "needs_background": "light"
     },
     "output_type": "display_data"
    }
   ],
   "source": [
    "plt.errorbar(momentaArr, meanArr, yerr=errorArr)\n",
    "plt.yscale('log')\n",
    "plt.ylabel('Particles Produced')\n",
    "plt.xlabel(r'$|\\vec p|$')\n",
    "#plt.savefig('test_su3.png')\n",
    "plt.show()"
   ]
  },
  {
   "cell_type": "code",
   "execution_count": null,
   "id": "4c907d50-58b0-4f27-8867-4f161eef4dc5",
   "metadata": {},
   "outputs": [],
   "source": []
  }
 ],
 "metadata": {
  "kernelspec": {
   "display_name": "Python 3",
   "language": "python",
   "name": "python3"
  },
  "language_info": {
   "codemirror_mode": {
    "name": "ipython",
    "version": 3
   },
   "file_extension": ".py",
   "mimetype": "text/x-python",
   "name": "python",
   "nbconvert_exporter": "python",
   "pygments_lexer": "ipython3",
   "version": "3.9.5"
  }
 },
 "nbformat": 4,
 "nbformat_minor": 5
}
